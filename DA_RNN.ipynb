{
 "cells": [
  {
   "cell_type": "code",
   "execution_count": 1,
   "metadata": {},
   "outputs": [],
   "source": [
    "import torch\n",
    "import pandas as pd\n",
    "import numpy as np\n",
    "import torch.nn as nn\n",
    "from torch import optim\n",
    "import matplotlib.pyplot as plt\n",
    "import time\n",
    "from sklearn.preprocessing import StandardScaler"
   ]
  },
  {
   "cell_type": "code",
   "execution_count": 2,
   "metadata": {},
   "outputs": [],
   "source": [
    "class AttentionEncoder(nn.Module):\n",
    "    def __init__(self, input_size, T, hidden_size, dropout):\n",
    "        super(AttentionEncoder, self).__init__()\n",
    "        self.input_size = input_size\n",
    "        self.T = T\n",
    "        self.hidden_size = hidden_size\n",
    "        self.dropout = dropout\n",
    "        \n",
    "        self.lstm = nn.LSTM(self.input_size, self.hidden_size, dropout = self.dropout)\n",
    "        # define attention layer\n",
    "        self.linear = nn.Linear(self.T + self.hidden_size * 2, self.T, False)\n",
    "        self.linear2 = nn.Linear(self.T, 1, False)\n",
    "        \n",
    "    def forward(self, x):\n",
    "        # note that input x has dimension of T * batch * input_size, and hidden is batch * hidden_size\n",
    "        batch_size = x.shape[1]\n",
    "        h = self.init_state(batch_size, self.hidden_size)\n",
    "        c = self.init_state(batch_size, self.hidden_size)\n",
    "        h_out=torch.zeros(self.T, batch_size, self.hidden_size, device = device)\n",
    "        \n",
    "        for i in range(self.T):\n",
    "            # first calculate input attention\n",
    "            concat_hc = torch.cat((h, c), 2).permute(1,0,2).repeat(1, self.input_size, 1)\n",
    "            # concat_hc has a size of batch_size * input_size * 2 hidden_size\n",
    "            out = self.linear(torch.cat((concat_hc, x.permute(1, 2, 0)), 2))\n",
    "            # out has a dimension of (batch_size*input_size) * T\n",
    "            weight = self.linear2(torch.tanh(out)).view(batch_size, self.input_size)\n",
    "            weight = torch.softmax(weight, 1)\n",
    "            # weight has a size of batch * input_size\n",
    "            \n",
    "            # update h and c\n",
    "            _, new_state = self.lstm((x[i] * weight).unsqueeze(0), (h, c))\n",
    "            h, c = new_state\n",
    "            h_out[i] = h[0]\n",
    "        return h_out\n",
    "    def init_state(self, batch_size, hidden_size):\n",
    "        return torch.zeros(1, batch_size, hidden_size, device=device)\n",
    "    def init_weight(self, T, batch_size, input_size):\n",
    "        return torch.zeros(1, T, batch_size, input_size, device=device)"
   ]
  },
  {
   "cell_type": "code",
   "execution_count": 3,
   "metadata": {},
   "outputs": [],
   "source": [
    "class AttentionDecoder(nn.Module):\n",
    "    def __init__(self, input_size, T, hidden_size, dropout):\n",
    "        super(AttentionDecoder, self).__init__()\n",
    "        # input size = 1 + m, here m is h state dimension\n",
    "        self.input_size = input_size\n",
    "        self.T = T\n",
    "        self.hidden_size = hidden_size\n",
    "        self.dropout = dropout\n",
    "        \n",
    "        # use nn.ModuleList for customized sequential layers\n",
    "        self.lstm = nn.LSTM(1, self.hidden_size, dropout = self.dropout)\n",
    "        # define attention layers which are linear of tanh layers\n",
    "        self.linear = nn.Linear(self.input_size - 1 + self.hidden_size * 2, self.input_size - 1, False)\n",
    "        self.v = nn.Linear(self.input_size - 1, 1, False)\n",
    "        self.linear2 = nn.Linear(self.input_size, 1)\n",
    "        self.linear3 = nn.Linear(self.hidden_size + self.input_size - 1, self.hidden_size)\n",
    "        self.linear4 = nn.Linear(self.hidden_size, 1)\n",
    "    def forward(self, y, h):\n",
    "        batch_size = y.shape[1]\n",
    "        d=self.init_state(batch_size,self.hidden_size)\n",
    "        s=self.init_state(batch_size,self.hidden_size)\n",
    "        # note that input y: T * batch * 1, h: T * batch * m, hidden state d: batch * hidden_size\n",
    "        for i in range(self.T):\n",
    "            # first calculate temporal attention on h from encoder\n",
    "            concat_ds = torch.cat((d, s), 2).permute(1, 0, 2).repeat(1, self.T, 1)\n",
    "            out = self.linear(torch.cat((concat_ds, h.permute(1, 0, 2)), 2))\n",
    "            weight = self.v(torch.tanh(out)).view(batch_size, self.T)\n",
    "            weight = torch.softmax(weight, 1)\n",
    "            weight = weight.unsqueeze(1)\n",
    "            # new h after temporal attention, batch_size * hidden\n",
    "            new_h = torch.bmm(weight, h.permute(1, 0, 2)).squeeze(1)\n",
    "            # update d and s\n",
    "            _, new_state = self.lstm((self.linear2(torch.cat((y[i], new_h), 1))).unsqueeze(0), (d, s))\n",
    "            d, s = new_state\n",
    "    \n",
    "        y_out = self.linear4(self.linear3(torch.cat((d.squeeze(0), new_h), 1)))\n",
    "        return y_out\n",
    "    def init_state(self, batch_size, hidden_size):\n",
    "        return torch.zeros(1, batch_size, hidden_size, device=device)\n",
    "    def init_weight(self, T, batch_size):\n",
    "        return torch.zeros(1, batch_size, T, device=device)        "
   ]
  },
  {
   "cell_type": "code",
   "execution_count": 4,
   "metadata": {},
   "outputs": [],
   "source": [
    "def Train(Encoder, Decoder, Train_X, Train_Y, Eval_X, Eval_Y, epoch, param, Encoderoptimizer, Decoderoptimizer, criterion, print_num):\n",
    "    T, m, p, n, batch_size = param\n",
    "    n_iter, rem = Train_Y.shape[0]//batch_size, Train_Y.shape[0]%batch_size\n",
    "    Eval_Loss=[]\n",
    "    for epoch_num in range(epoch):\n",
    "        idx = np.random.permutation(Train_Y.shape[0])\n",
    "        # input_tensor has a size of T * (35100 - T) * (n+1), target_tensor has a size of (35100 - T) * 1\n",
    "        total_loss = 0\n",
    "        pre_time = time.time()\n",
    "        i_last = 0\n",
    "        for i in range(n_iter):\n",
    "            batch_idx = idx[i * batch_size:(i + 1) * batch_size]\n",
    "            y_target = Train_Y[batch_idx].to(device)\n",
    "            x, y = Train_X[:, batch_idx, :n].to(device), Train_X[:, batch_idx, n:].to(device)\n",
    "            \n",
    "            Encoderoptimizer.zero_grad()\n",
    "            Decoderoptimizer.zero_grad()\n",
    "            \n",
    "            h = Encoder(x)\n",
    "            y_pred = Decoder(y, h)\n",
    "            loss = criterion(y_pred, y_target)\n",
    "            loss.backward()\n",
    "            Encoderoptimizer.step()\n",
    "            Decoderoptimizer.step()\n",
    "            total_loss += loss\n",
    "            \n",
    "            if (i + 1)%print_num == 0:\n",
    "                with torch.no_grad():\n",
    "                    x, y = Eval_X[:, :, :n].to(device), Eval_X[:, :, n:].to(device)\n",
    "                    h = Encoder(x)\n",
    "                    y_pred = Decoder(y, h)\n",
    "                    eval_loss = criterion(y_pred, Eval_Y.to(device))\n",
    "                    Eval_Loss.append(eval_loss.cpu().numpy())\n",
    "                print('Epoch = %d, Iter = %5d, Time elapsed = %d s, Loss = %f.' % (epoch_num + 1, i + 1, time.time() - pre_time, total_loss/(i-i_last+1)))\n",
    "                pre_time = time.time()\n",
    "                total_loss = 0\n",
    "                i_last = i + 1\n",
    "        if rem != 0:\n",
    "            i = i + 1\n",
    "            batch_idx = idx[i * batch_size:]\n",
    "            y_target = Train_Y[batch_idx].to(device)\n",
    "            x, y = Train_X[:, batch_idx, :n].to(device), Train_X[:, batch_idx, n:].to(device)\n",
    "            \n",
    "            Encoderoptimizer.zero_grad()\n",
    "            Decoderoptimizer.zero_grad()\n",
    "            \n",
    "            h = Encoder(x)\n",
    "            y_pred = Decoder(y, h)\n",
    "            loss = criterion(y_pred, y_target)\n",
    "            loss.backward()\n",
    "            Encoderoptimizer.step()\n",
    "            Decoderoptimizer.step()\n",
    "            total_loss += loss\n",
    "        print('Epoch = %d, Iter = %5d finished, Time elapsed = %d s, Loss = %f.' % (epoch_num + 1, i + 1, time.time() - pre_time, total_loss/(i-i_last+1)))\n",
    "    return Eval_Loss"
   ]
  },
  {
   "cell_type": "code",
   "execution_count": 5,
   "metadata": {},
   "outputs": [],
   "source": [
    "def Validate(Encoder, Decoder, Eval_X, Eval_Y, param):\n",
    "    T, m, p, n, batch_size = param\n",
    "    with torch.no_grad():\n",
    "        x, y = Eval_X[:, :, :n].to(device), Eval_X[:, :, n:].to(device)\n",
    "        h = Encoder(x)\n",
    "        y_pred = Decoder(y, h)\n",
    "        loss = criterion(y_pred, Eval_Y.to(device))\n",
    "    return (y_pred, loss)"
   ]
  },
  {
   "cell_type": "code",
   "execution_count": 6,
   "metadata": {},
   "outputs": [],
   "source": [
    "class parameter:\n",
    "    T_grid = [10]\n",
    "    m_grid = [128]\n",
    "    batch_size = 128\n",
    "    epoch = 2\n",
    "    learning_rate = 0.001\n",
    "    Train_num = 35100 + 60\n",
    "    Eval_num = 2700\n",
    "    Test_num = 2700\n",
    "    print_num = 50\n",
    "    dropout = 0"
   ]
  },
  {
   "cell_type": "code",
   "execution_count": 7,
   "metadata": {},
   "outputs": [
    {
     "data": {
      "text/plain": [
       "(torch.Size([40560, 81]), torch.Size([40560, 1]))"
      ]
     },
     "execution_count": 7,
     "metadata": {},
     "output_type": "execute_result"
    }
   ],
   "source": [
    "device = torch.device(\"cuda:0\" if torch.cuda.is_available() else \"cpu\")\n",
    "config=parameter()\n",
    "Train_num, Eval_num, Test_num, batch_size = config.Train_num, config.Eval_num, config.Test_num, config.batch_size\n",
    "\n",
    "data =  pd.read_csv('./nasdaq100/small/nasdaq100_padding.csv').values\n",
    "\n",
    "percentage = 0\n",
    "if percentage:\n",
    "    for i in range(data.shape[0] - 1, 0, -1):\n",
    "        data[i] = (data[i] - data[i-1])/data[i-1]\n",
    "    data = data[1:]\n",
    "scale = StandardScaler().fit(data)\n",
    "data = scale.transform(data)\n",
    "\n",
    "datax, datay = torch.from_numpy(data[:,:-1]).float(), torch.from_numpy(data[:, -1]).float().unsqueeze(1)\n",
    "datax.shape, datay.shape"
   ]
  },
  {
   "cell_type": "code",
   "execution_count": 8,
   "metadata": {},
   "outputs": [
    {
     "name": "stdout",
     "output_type": "stream",
     "text": [
      "Epoch = 1, Iter =    20, Time elapsed = 4 s, Loss = 0.670774.\n",
      "Epoch = 1, Iter =    40, Time elapsed = 3 s, Loss = 0.418097.\n",
      "Epoch = 1, Iter =    60, Time elapsed = 3 s, Loss = 0.214275.\n",
      "Epoch = 1, Iter =    80, Time elapsed = 3 s, Loss = 0.133069.\n",
      "Epoch = 1, Iter =   100, Time elapsed = 3 s, Loss = 0.079012.\n",
      "Epoch = 1, Iter =   120, Time elapsed = 2 s, Loss = 0.062698.\n",
      "Epoch = 1, Iter =   140, Time elapsed = 2 s, Loss = 0.052319.\n",
      "Epoch = 1, Iter =   160, Time elapsed = 2 s, Loss = 0.045406.\n",
      "Epoch = 1, Iter =   180, Time elapsed = 2 s, Loss = 0.034269.\n",
      "Epoch = 1, Iter =   200, Time elapsed = 2 s, Loss = 0.032890.\n",
      "Epoch = 1, Iter =   220, Time elapsed = 3 s, Loss = 0.028646.\n",
      "Epoch = 1, Iter =   240, Time elapsed = 2 s, Loss = 0.027316.\n",
      "Epoch = 1, Iter =   260, Time elapsed = 3 s, Loss = 0.025587.\n",
      "Epoch = 1, Iter =   275 finished, Time elapsed = 2 s, Loss = 0.023121.\n",
      "Epoch = 2, Iter =    20, Time elapsed = 3 s, Loss = 0.023491.\n",
      "Epoch = 2, Iter =    40, Time elapsed = 2 s, Loss = 0.021956.\n",
      "Epoch = 2, Iter =    60, Time elapsed = 2 s, Loss = 0.019670.\n",
      "Epoch = 2, Iter =    80, Time elapsed = 2 s, Loss = 0.020302.\n",
      "Epoch = 2, Iter =   100, Time elapsed = 3 s, Loss = 0.021562.\n",
      "Epoch = 2, Iter =   120, Time elapsed = 2 s, Loss = 0.022011.\n",
      "Epoch = 2, Iter =   140, Time elapsed = 2 s, Loss = 0.017958.\n",
      "Epoch = 2, Iter =   160, Time elapsed = 2 s, Loss = 0.016997.\n",
      "Epoch = 2, Iter =   180, Time elapsed = 2 s, Loss = 0.019166.\n",
      "Epoch = 2, Iter =   200, Time elapsed = 3 s, Loss = 0.017936.\n",
      "Epoch = 2, Iter =   220, Time elapsed = 3 s, Loss = 0.014517.\n",
      "Epoch = 2, Iter =   240, Time elapsed = 2 s, Loss = 0.013714.\n",
      "Epoch = 2, Iter =   260, Time elapsed = 2 s, Loss = 0.014843.\n",
      "Epoch = 2, Iter =   275 finished, Time elapsed = 2 s, Loss = 0.014950.\n"
     ]
    },
    {
     "data": {
      "image/png": "[encoded data removed]",
      "text/plain": [
       "<Figure size 432x288 with 1 Axes>"
      ]
     },
     "metadata": {
      "needs_background": "light"
     },
     "output_type": "display_data"
    }
   ],
   "source": [
    "criterion = nn.MSELoss()\n",
    "print_num = 20\n",
    "n = datax.shape[1]\n",
    "loss = np.zeros((len(config.T_grid), len(config.m_grid)))\n",
    "Model_list=[]\n",
    "for i, T in enumerate(config.T_grid):\n",
    "    for j, m in enumerate(config.m_grid):\n",
    "        param = [T, m, m, n, batch_size]\n",
    "        data_Y = datay[T:]\n",
    "        data_X = torch.zeros(T, datay.shape[0] - T, n + 1)\n",
    "        for index in range(T, datay.shape[0]):\n",
    "            data_X[:,index-T,:n] = datax[index-T:index]\n",
    "            data_X[:,index-T,n:] = datay[index-T:index]\n",
    "        Train_X, Eval_X, Test_X = data_X.split([Train_num - T, Eval_num, Test_num], dim = 1)\n",
    "        Train_Y, Eval_Y, Test_Y = data_Y.split([Train_num - T, Eval_num, Test_num])\n",
    "        \n",
    "        Encoder = AttentionEncoder(n, T, m, dropout = config.dropout).to(device)\n",
    "        Decoder = AttentionDecoder(1 + m, T, m, dropout = config.dropout).to(device)\n",
    "        Encoderoptimizer = optim.Adam(Encoder.parameters(), lr=config.learning_rate, weight_decay = 0)\n",
    "        Decoderoptimizer = optim.Adam(Encoder.parameters(), lr=config.learning_rate, weight_decay = 0)\n",
    "        # Training\n",
    "        Eval_loss = Train(Encoder, Decoder, Train_X, Train_Y, Eval_X, Eval_Y, config.epoch, param, Encoderoptimizer, Decoderoptimizer, criterion, print_num)\n",
    "        plt.figure()\n",
    "        plt.plot(Eval_loss)\n",
    "        plt.show()\n",
    "        Model_list.append([Encoder, Decoder])\n",
    "        # Eval\n",
    "        _, loss[i][j] = Validate(Encoder, Decoder, Eval_X, Eval_Y, param)"
   ]
  },
  {
   "cell_type": "code",
   "execution_count": 9,
   "metadata": {},
   "outputs": [
    {
     "data": {
      "text/plain": [
       "[<matplotlib.lines.Line2D at 0x27f066a6e48>,\n",
       " <matplotlib.lines.Line2D at 0x27f066a6f98>]"
      ]
     },
     "execution_count": 9,
     "metadata": {},
     "output_type": "execute_result"
    },
    {
     "data": {
      "image/png": "[encoded data removed]",
      "text/plain": [
       "<Figure size 432x288 with 1 Axes>"
      ]
     },
     "metadata": {
      "needs_background": "light"
     },
     "output_type": "display_data"
    },
    {
     "data": {
      "image/png": "[encoded data removed]",
      "text/plain": [
       "<Figure size 432x288 with 1 Axes>"
      ]
     },
     "metadata": {
      "needs_background": "light"
     },
     "output_type": "display_data"
    }
   ],
   "source": [
    "min_idx = np.argmin(loss)\n",
    "i, j = min_idx//len(config.m_grid), min_idx%len(config.m_grid)\n",
    "T, m = config.T_grid[i], config.m_grid[j]\n",
    "param = [T, m, m, n, batch_size]\n",
    "data_Y = datay[T:]\n",
    "data_X = torch.zeros(T, datay.shape[0] - T, n + 1)\n",
    "for index in range(T, datay.shape[0]):\n",
    "    data_X[:,index-T,:n] = datax[index-T:index]\n",
    "    data_X[:,index-T,n:] = datay[index-T:index]\n",
    "Train_X, Eval_X, Test_X = data_X.split([Train_num - T, Eval_num, Test_num], dim = 1)\n",
    "Train_Y, Eval_Y, Test_Y = data_Y.split([Train_num - T, Eval_num, Test_num])\n",
    "\n",
    "# Test\n",
    "Encoder, Decoder = Model_list[min_idx]\n",
    "# first see Eval data prediction\n",
    "y_pred_Test, loss_Test = Validate(Encoder, Decoder, Eval_X, Eval_Y, param)\n",
    "plt.figure()\n",
    "plt.plot(scale.inverse_transform(y_pred_Test.cpu().repeat(1,82).numpy())[:,-1],'k',scale.inverse_transform(Eval_Y.repeat(1,82).numpy())[:,-1],'r')\n",
    "# see the prediction of new data\n",
    "y_pred_Test, loss_Test = Validate(Encoder, Decoder, Test_X, Test_Y, param)\n",
    "plt.figure()\n",
    "plt.plot(scale.inverse_transform(y_pred_Test.cpu().repeat(1,82).numpy())[:,-1],'k',scale.inverse_transform(Test_Y.repeat(1,82).numpy())[:,-1],'r')"
   ]
  },
  {
   "cell_type": "code",
   "execution_count": null,
   "metadata": {},
   "outputs": [],
   "source": []
  }
 ],
 "metadata": {
  "kernelspec": {
   "display_name": "Python 3",
   "language": "python",
   "name": "python3"
  },
  "language_info": {
   "codemirror_mode": {
    "name": "ipython",
    "version": 3
   },
   "file_extension": ".py",
   "mimetype": "text/x-python",
   "name": "python",
   "nbconvert_exporter": "python",
   "pygments_lexer": "ipython3",
   "version": "3.7.3"
  }
 },
 "nbformat": 4,
 "nbformat_minor": 2
}
